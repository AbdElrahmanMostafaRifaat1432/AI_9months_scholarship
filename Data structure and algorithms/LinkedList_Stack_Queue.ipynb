{
 "cells": [
  {
   "cell_type": "code",
   "execution_count": 285,
   "id": "0f4bc812",
   "metadata": {},
   "outputs": [],
   "source": [
    "class Student :\n",
    "    def __init__(self , id , name):\n",
    "        self.id = id\n",
    "        self.name = name\n",
    "    def __str__(self):\n",
    "        return f'ID is: {self.id} Name is: {self.name}'\n",
    "\n",
    "    def __repr__(self):\n",
    "        return f'ID is: {self.id} Name is: {self.name}'"
   ]
  },
  {
   "cell_type": "code",
   "execution_count": 286,
   "id": "65bdf131",
   "metadata": {},
   "outputs": [],
   "source": [
    "class Node:\n",
    "    \n",
    "    def __init__(self , student):\n",
    "        self.data = student\n",
    "        self.next = None\n",
    "        self.prev = None\n",
    "        \n",
    "    "
   ]
  },
  {
   "cell_type": "code",
   "execution_count": 287,
   "id": "e017001b",
   "metadata": {},
   "outputs": [],
   "source": [
    "class DoubleLinked:\n",
    "    def __init__(self):\n",
    "        self.head  = None\n",
    "        self.tail = None\n",
    "        \n",
    "    def insert(self,student , loc):\n",
    "        nd = Node(student)\n",
    "        \n",
    "        # if the list is empty\n",
    "        if (self.head == None):\n",
    "            self.head = nd\n",
    "            self.tail = nd\n",
    "        \n",
    "        # if it is not empty\n",
    "        else:\n",
    "            # either its the first location or other location\n",
    "            if (loc == 0):\n",
    "                self.head.prev = nd\n",
    "                self.head = nd\n",
    "            else:\n",
    "                # other location\n",
    "                i = 0\n",
    "                cur = self.head\n",
    "                while(i < loc-1 and cur!=None ):\n",
    "                    cur = cur.next\n",
    "                    i = i+1\n",
    "                # last Node\n",
    "                if (cur==self.tail or cur==None):\n",
    "                    nd.prev = self.tail\n",
    "                    self.tail.next = nd\n",
    "                    self.tail = nd\n",
    "                # in the mid\n",
    "                else:\n",
    "                    cur.next.prev = nd\n",
    "                    nd.next = cur.next\n",
    "                    cur.next = nd\n",
    "                    nd.prev = cur\n",
    "    \n",
    "    def delete(self , loc):\n",
    "        flag = 0\n",
    "        nd = None\n",
    "        \n",
    "        # not empty\n",
    "        if (self.head != None):\n",
    "            nd = self.head\n",
    "            \n",
    "            #first Node\n",
    "            if (loc == 0):\n",
    "                # one node\n",
    "                if (self.head == self.tail):\n",
    "                    self.head = None\n",
    "                    self.tail  = None\n",
    "                else:\n",
    "                    self.head = self.head.next\n",
    "                    self.head.prev = None\n",
    "                flag = 1\n",
    "            \n",
    "            # middle or last\n",
    "            else:\n",
    "                i = 0\n",
    "                while (i<loc and nd!=None):\n",
    "                    nd = nd.next\n",
    "                    i = i+1\n",
    "                # last node\n",
    "                if (nd == self.tail):\n",
    "                    self.tail = self.tail.prev\n",
    "                    self.tail.next = None\n",
    "                    \n",
    "                # middle Node\n",
    "                else:\n",
    "                    nd.prev.next = nd.next\n",
    "                    nd.next.prev = nd.prev\n",
    "                flag = 1\n",
    "        return flag\n",
    "    \n",
    "                        \n",
    "                \n",
    "    def search(self, id):\n",
    "        nd = None\n",
    "        #list is not empty\n",
    "        if(self.head != None):\n",
    "            nd = self.head\n",
    "            while(nd!=None and nd.data.id !=id ):\n",
    "                nd = nd.next\n",
    "        if nd!=None:\n",
    "            return nd.data\n",
    "        else:\n",
    "            return nd\n",
    "    \n",
    "    def update(self,id ,name):\n",
    "        nd = None\n",
    "        #list is not empty\n",
    "        if(self.head != None):\n",
    "            nd = self.head\n",
    "            while(nd!=None and nd.data.id !=id ):\n",
    "                nd = nd.next\n",
    "        if nd!=None:\n",
    "            nd.data.name = name\n",
    "            return 1\n",
    "        else:\n",
    "            return 0\n",
    "        \n",
    "    def count(self):\n",
    "        count = 0\n",
    "        #list is not empty\n",
    "        if(self.head != None):\n",
    "            nd = self.head\n",
    "            while(nd!=None):\n",
    "                nd = nd.next\n",
    "                count+=1\n",
    "\n",
    "        return count\n",
    "    \n",
    "    def push(self , student):\n",
    "        \n",
    "        nd = Node(student)\n",
    "        \n",
    "        # no item in stack\n",
    "        if (self.head ==None):\n",
    "            self.head = nd\n",
    "            self.tail = nd\n",
    "        else:\n",
    "            nd.prev = self.tail\n",
    "            self.tail.next = nd\n",
    "            self.tail = nd\n",
    "    \n",
    "    def pop(self):\n",
    "        nd = None\n",
    "        # not empty\n",
    "        if (self.tail != None ):\n",
    "            nd = self.tail \n",
    "            self.tail = self.tail.prev\n",
    "            self.tail.next = None\n",
    "        return nd.data\n",
    "    \n",
    "    def enqueue(self,student):\n",
    "        nd = Node(student)\n",
    "        # empty qu\n",
    "        if (self.head == None):\n",
    "            self.head = nd\n",
    "            self.tail = nd\n",
    "            \n",
    "        else:\n",
    "            self.tail.next = nd\n",
    "            nd.prev = self.tail\n",
    "            self.tail=nd\n",
    "            \n",
    "    def dequeue(self):\n",
    "        nd = None\n",
    "        if (self.head!=None):\n",
    "            nd = self.head\n",
    "            self.head = self.head.next\n",
    "            if (self.head==None):\n",
    "                self.tail =None\n",
    "        return nd.data\n",
    "    \n",
    "    def print1(self):\n",
    "        #list is not empty\n",
    "        if(self.head != None):\n",
    "            nd = self.head\n",
    "            while(nd!=None):\n",
    "                print(nd.data, \"\\n\")\n",
    "                nd = nd.next\n",
    "                \n",
    "\n",
    "    \n",
    "                "
   ]
  },
  {
   "cell_type": "code",
   "execution_count": 288,
   "id": "a16a05a2",
   "metadata": {},
   "outputs": [],
   "source": [
    "s1 = Student(0 , \"Ahmed\")\n",
    "s2 = Student(1 , \"Abdo\")\n",
    "s3 = Student(2 , \"Ali\")\n",
    "s4 = Student(3 , \"Abeer\")\n",
    "s5 = Student(4 , \"Alaa\")\n",
    "s6 = Student(5 , \"asma\")"
   ]
  },
  {
   "cell_type": "code",
   "execution_count": 289,
   "id": "8fd3072c",
   "metadata": {},
   "outputs": [],
   "source": [
    "Dlist = DoubleLinked()"
   ]
  },
  {
   "cell_type": "code",
   "execution_count": 290,
   "id": "2955fefa",
   "metadata": {},
   "outputs": [],
   "source": [
    "Dlist.insert(s1,0)"
   ]
  },
  {
   "cell_type": "code",
   "execution_count": 291,
   "id": "72f8db8e",
   "metadata": {},
   "outputs": [],
   "source": [
    "Dlist.insert(s2,1)"
   ]
  },
  {
   "cell_type": "code",
   "execution_count": 292,
   "id": "ce517664",
   "metadata": {},
   "outputs": [
    {
     "data": {
      "text/plain": [
       "ID is: 0 Name is: Ahmed"
      ]
     },
     "execution_count": 292,
     "metadata": {},
     "output_type": "execute_result"
    }
   ],
   "source": [
    "Dlist.search(0)"
   ]
  },
  {
   "cell_type": "code",
   "execution_count": 293,
   "id": "8d16f229",
   "metadata": {},
   "outputs": [
    {
     "data": {
      "text/plain": [
       "1"
      ]
     },
     "execution_count": 293,
     "metadata": {},
     "output_type": "execute_result"
    }
   ],
   "source": [
    "Dlist.delete(0)"
   ]
  },
  {
   "cell_type": "code",
   "execution_count": 294,
   "id": "7bf78da2",
   "metadata": {},
   "outputs": [],
   "source": [
    "Dlist.search(0)"
   ]
  },
  {
   "cell_type": "code",
   "execution_count": 295,
   "id": "d6ea144b",
   "metadata": {},
   "outputs": [
    {
     "data": {
      "text/plain": [
       "1"
      ]
     },
     "execution_count": 295,
     "metadata": {},
     "output_type": "execute_result"
    }
   ],
   "source": [
    "Dlist.update(1 , \"maha\")"
   ]
  },
  {
   "cell_type": "code",
   "execution_count": 296,
   "id": "32ecc5e3",
   "metadata": {},
   "outputs": [
    {
     "data": {
      "text/plain": [
       "ID is: 1 Name is: maha"
      ]
     },
     "execution_count": 296,
     "metadata": {},
     "output_type": "execute_result"
    }
   ],
   "source": [
    "Dlist.search(1)"
   ]
  },
  {
   "cell_type": "code",
   "execution_count": 297,
   "id": "005c34dc",
   "metadata": {},
   "outputs": [
    {
     "data": {
      "text/plain": [
       "1"
      ]
     },
     "execution_count": 297,
     "metadata": {},
     "output_type": "execute_result"
    }
   ],
   "source": [
    "Dlist.count()"
   ]
  },
  {
   "cell_type": "markdown",
   "id": "f0af707c",
   "metadata": {},
   "source": [
    "# stack"
   ]
  },
  {
   "cell_type": "code",
   "execution_count": 298,
   "id": "34af7ec8",
   "metadata": {},
   "outputs": [],
   "source": [
    "s1 = Student(0 , \"Ahmed\")\n",
    "s2 = Student(1 , \"Abdo\")\n",
    "s3 = Student(2 , \"Ali\")\n",
    "s4 = Student(3 , \"Abeer\")\n",
    "s5 = Student(4 , \"Alaa\")\n",
    "s6 = Student(5 , \"asma\")"
   ]
  },
  {
   "cell_type": "code",
   "execution_count": 299,
   "id": "17f24113",
   "metadata": {},
   "outputs": [],
   "source": [
    "Dlist2 = DoubleLinked()"
   ]
  },
  {
   "cell_type": "code",
   "execution_count": 300,
   "id": "38c45239",
   "metadata": {},
   "outputs": [],
   "source": [
    "Dlist2.push(s1)\n",
    "Dlist2.push(s2)"
   ]
  },
  {
   "cell_type": "code",
   "execution_count": 301,
   "id": "4092592e",
   "metadata": {},
   "outputs": [
    {
     "data": {
      "text/plain": [
       "ID is: 1 Name is: Abdo"
      ]
     },
     "execution_count": 301,
     "metadata": {},
     "output_type": "execute_result"
    }
   ],
   "source": [
    "Dlist2.pop()"
   ]
  },
  {
   "cell_type": "code",
   "execution_count": 302,
   "id": "118e2a58",
   "metadata": {},
   "outputs": [
    {
     "name": "stdout",
     "output_type": "stream",
     "text": [
      "ID is: 0 Name is: Ahmed \n",
      "\n"
     ]
    }
   ],
   "source": [
    "Dlist2.print1()"
   ]
  },
  {
   "cell_type": "markdown",
   "id": "b990d2fc",
   "metadata": {},
   "source": [
    "# Queue"
   ]
  },
  {
   "cell_type": "code",
   "execution_count": 303,
   "id": "57103f51",
   "metadata": {},
   "outputs": [],
   "source": [
    "s1 = Student(0 , \"Ahmed\")\n",
    "s2 = Student(1 , \"Abdo\")\n",
    "s3 = Student(2 , \"Ali\")\n",
    "s4 = Student(3 , \"Abeer\")\n",
    "s5 = Student(4 , \"Alaa\")\n",
    "s6 = Student(5 , \"asma\")"
   ]
  },
  {
   "cell_type": "code",
   "execution_count": 304,
   "id": "48068039",
   "metadata": {},
   "outputs": [],
   "source": [
    "Dlist3 = DoubleLinked()"
   ]
  },
  {
   "cell_type": "code",
   "execution_count": 305,
   "id": "116575cb",
   "metadata": {},
   "outputs": [],
   "source": [
    "Dlist3.enqueue(s1)\n",
    "Dlist3.enqueue(s2)"
   ]
  },
  {
   "cell_type": "code",
   "execution_count": 306,
   "id": "38146376",
   "metadata": {},
   "outputs": [
    {
     "data": {
      "text/plain": [
       "ID is: 0 Name is: Ahmed"
      ]
     },
     "execution_count": 306,
     "metadata": {},
     "output_type": "execute_result"
    }
   ],
   "source": [
    "Dlist3.dequeue()"
   ]
  },
  {
   "cell_type": "code",
   "execution_count": 307,
   "id": "6a6f1fe1",
   "metadata": {},
   "outputs": [
    {
     "name": "stdout",
     "output_type": "stream",
     "text": [
      "ID is: 1 Name is: Abdo \n",
      "\n"
     ]
    }
   ],
   "source": [
    "Dlist3.print1()"
   ]
  },
  {
   "cell_type": "code",
   "execution_count": null,
   "id": "02f24f9d",
   "metadata": {},
   "outputs": [],
   "source": []
  }
 ],
 "metadata": {
  "kernelspec": {
   "display_name": "Python 3 (ipykernel)",
   "language": "python",
   "name": "python3"
  },
  "language_info": {
   "codemirror_mode": {
    "name": "ipython",
    "version": 3
   },
   "file_extension": ".py",
   "mimetype": "text/x-python",
   "name": "python",
   "nbconvert_exporter": "python",
   "pygments_lexer": "ipython3",
   "version": "3.9.12"
  }
 },
 "nbformat": 4,
 "nbformat_minor": 5
}
