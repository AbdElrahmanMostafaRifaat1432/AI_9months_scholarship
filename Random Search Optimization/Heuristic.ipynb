{
 "cells": [
  {
   "cell_type": "code",
   "execution_count": 1,
   "id": "ab54e5fe",
   "metadata": {},
   "outputs": [],
   "source": [
    "import pandas as pd\n",
    "import numpy as np \n",
    "import math"
   ]
  },
  {
   "cell_type": "code",
   "execution_count": 2,
   "id": "e06ba76c",
   "metadata": {},
   "outputs": [],
   "source": [
    "df  = pd.read_csv(\"Data set CSV.csv\")"
   ]
  },
  {
   "cell_type": "code",
   "execution_count": 3,
   "id": "f65567df",
   "metadata": {},
   "outputs": [
    {
     "data": {
      "text/html": [
       "<div>\n",
       "<style scoped>\n",
       "    .dataframe tbody tr th:only-of-type {\n",
       "        vertical-align: middle;\n",
       "    }\n",
       "\n",
       "    .dataframe tbody tr th {\n",
       "        vertical-align: top;\n",
       "    }\n",
       "\n",
       "    .dataframe thead th {\n",
       "        text-align: right;\n",
       "    }\n",
       "</style>\n",
       "<table border=\"1\" class=\"dataframe\">\n",
       "  <thead>\n",
       "    <tr style=\"text-align: right;\">\n",
       "      <th></th>\n",
       "      <th>City</th>\n",
       "      <th>x</th>\n",
       "      <th>y</th>\n",
       "    </tr>\n",
       "  </thead>\n",
       "  <tbody>\n",
       "    <tr>\n",
       "      <th>0</th>\n",
       "      <td>1</td>\n",
       "      <td>5.500000e-08</td>\n",
       "      <td>9.860000e-09</td>\n",
       "    </tr>\n",
       "    <tr>\n",
       "      <th>1</th>\n",
       "      <td>2</td>\n",
       "      <td>-2.887330e+01</td>\n",
       "      <td>-7.980000e-08</td>\n",
       "    </tr>\n",
       "    <tr>\n",
       "      <th>2</th>\n",
       "      <td>3</td>\n",
       "      <td>-7.929160e+01</td>\n",
       "      <td>-2.140330e+01</td>\n",
       "    </tr>\n",
       "    <tr>\n",
       "      <th>3</th>\n",
       "      <td>4</td>\n",
       "      <td>-1.465770e+01</td>\n",
       "      <td>-4.338960e+01</td>\n",
       "    </tr>\n",
       "    <tr>\n",
       "      <th>4</th>\n",
       "      <td>5</td>\n",
       "      <td>-6.474730e+01</td>\n",
       "      <td>2.189820e+01</td>\n",
       "    </tr>\n",
       "    <tr>\n",
       "      <th>5</th>\n",
       "      <td>6</td>\n",
       "      <td>-2.905850e+01</td>\n",
       "      <td>-4.321670e+01</td>\n",
       "    </tr>\n",
       "    <tr>\n",
       "      <th>6</th>\n",
       "      <td>7</td>\n",
       "      <td>-7.207850e+01</td>\n",
       "      <td>1.815810e-01</td>\n",
       "    </tr>\n",
       "    <tr>\n",
       "      <th>7</th>\n",
       "      <td>8</td>\n",
       "      <td>-3.603660e+01</td>\n",
       "      <td>-2.161350e+01</td>\n",
       "    </tr>\n",
       "    <tr>\n",
       "      <th>8</th>\n",
       "      <td>9</td>\n",
       "      <td>-5.048080e+01</td>\n",
       "      <td>7.374470e+00</td>\n",
       "    </tr>\n",
       "    <tr>\n",
       "      <th>9</th>\n",
       "      <td>10</td>\n",
       "      <td>-5.058590e+01</td>\n",
       "      <td>-2.158820e+01</td>\n",
       "    </tr>\n",
       "    <tr>\n",
       "      <th>10</th>\n",
       "      <td>11</td>\n",
       "      <td>-1.358190e-01</td>\n",
       "      <td>-2.872930e+01</td>\n",
       "    </tr>\n",
       "    <tr>\n",
       "      <th>11</th>\n",
       "      <td>12</td>\n",
       "      <td>-6.508660e+01</td>\n",
       "      <td>-3.606250e+01</td>\n",
       "    </tr>\n",
       "    <tr>\n",
       "      <th>12</th>\n",
       "      <td>13</td>\n",
       "      <td>-2.149830e+01</td>\n",
       "      <td>7.319420e+00</td>\n",
       "    </tr>\n",
       "    <tr>\n",
       "      <th>13</th>\n",
       "      <td>14</td>\n",
       "      <td>-5.756870e+01</td>\n",
       "      <td>-4.325060e+01</td>\n",
       "    </tr>\n",
       "    <tr>\n",
       "      <th>14</th>\n",
       "      <td>15</td>\n",
       "      <td>-4.307000e+01</td>\n",
       "      <td>1.455480e+01</td>\n",
       "    </tr>\n",
       "  </tbody>\n",
       "</table>\n",
       "</div>"
      ],
      "text/plain": [
       "    City             x             y\n",
       "0      1  5.500000e-08  9.860000e-09\n",
       "1      2 -2.887330e+01 -7.980000e-08\n",
       "2      3 -7.929160e+01 -2.140330e+01\n",
       "3      4 -1.465770e+01 -4.338960e+01\n",
       "4      5 -6.474730e+01  2.189820e+01\n",
       "5      6 -2.905850e+01 -4.321670e+01\n",
       "6      7 -7.207850e+01  1.815810e-01\n",
       "7      8 -3.603660e+01 -2.161350e+01\n",
       "8      9 -5.048080e+01  7.374470e+00\n",
       "9     10 -5.058590e+01 -2.158820e+01\n",
       "10    11 -1.358190e-01 -2.872930e+01\n",
       "11    12 -6.508660e+01 -3.606250e+01\n",
       "12    13 -2.149830e+01  7.319420e+00\n",
       "13    14 -5.756870e+01 -4.325060e+01\n",
       "14    15 -4.307000e+01  1.455480e+01"
      ]
     },
     "execution_count": 3,
     "metadata": {},
     "output_type": "execute_result"
    }
   ],
   "source": [
    "df"
   ]
  },
  {
   "cell_type": "code",
   "execution_count": 4,
   "id": "cdc1eb79",
   "metadata": {},
   "outputs": [],
   "source": [
    "class City:\n",
    "    def __init__(self, n ,long, lat):\n",
    "        self.name = n\n",
    "        self.long = long\n",
    "        self.lat = lat"
   ]
  },
  {
   "cell_type": "code",
   "execution_count": 5,
   "id": "18d5735d",
   "metadata": {},
   "outputs": [],
   "source": [
    "cities = np.array([])\n",
    "for index, row in df.iterrows():\n",
    "    cities = np.append( cities, City(row[0] , row[1] , row[2] ))"
   ]
  },
  {
   "cell_type": "code",
   "execution_count": 6,
   "id": "bee9aac4",
   "metadata": {},
   "outputs": [],
   "source": [
    "def init_city(cities):\n",
    "    # start with certain city\n",
    "    city = cities[14]\n",
    "    return city\n",
    "    "
   ]
  },
  {
   "cell_type": "code",
   "execution_count": 7,
   "id": "010795a9",
   "metadata": {},
   "outputs": [],
   "source": [
    "def calc_eculd(longCurr,latCurr,longRem,latRem):\n",
    "    # calculate eculidean to remaining\n",
    "    distance = math.sqrt((longCurr - longRem)**2 + (latCurr - latRem)**2)\n",
    "    \n",
    "    return distance\n"
   ]
  },
  {
   "cell_type": "code",
   "execution_count": 8,
   "id": "b2cf3dad",
   "metadata": {},
   "outputs": [],
   "source": [
    "def greedy( curr,rems ):\n",
    "    #least distance to current\n",
    "    min1 = np.inf\n",
    "    for rem in rems:\n",
    "        dis = calc_eculd(curr.long,curr.lat,rem.long,rem.lat)\n",
    "        if  dis <= min1:\n",
    "            min1 = dis\n",
    "            rem_min = rem\n",
    "    return rem_min , min1\n",
    "         \n",
    "    "
   ]
  },
  {
   "cell_type": "code",
   "execution_count": 9,
   "id": "57e68152",
   "metadata": {},
   "outputs": [],
   "source": [
    "def termination(cities , visited):\n",
    "    # if all visited terminate\n",
    "    if len(visited)==len(cities):\n",
    "        return 1\n",
    "    else:\n",
    "        return 0\n",
    "    "
   ]
  },
  {
   "cell_type": "code",
   "execution_count": 10,
   "id": "81533100",
   "metadata": {},
   "outputs": [],
   "source": [
    "# city 14\n",
    "def TSP(cities):\n",
    "    first_city = init_city(cities)\n",
    "    visited = np.array([first_city])\n",
    "    sequence = np.array([first_city.name])\n",
    "    total_dis = 0\n",
    "    curr1 = first_city\n",
    "    while(True):\n",
    "        ind = ~(np.isin(cities,visited))\n",
    "        rems = cities[ind]\n",
    "        rem_min , min1 = greedy( curr1,rems )\n",
    "        visited = np.append(visited ,rem_min )\n",
    "        sequence = np.append(sequence , rem_min.name)\n",
    "        total_dis+=min1\n",
    "        curr1 = rem_min\n",
    "        if termination(cities ,visited ):\n",
    "            sequence = np.append(sequence ,first_city.name)\n",
    "            visited = np.append(visited ,first_city)\n",
    "            total_dis+= calc_eculd(first_city.long,first_city.lat,rem_min.long,rem_min.lat)\n",
    "            break    \n",
    "    return  visited, sequence , total_dis \n",
    "    "
   ]
  },
  {
   "cell_type": "code",
   "execution_count": 11,
   "id": "6c0c3c7e",
   "metadata": {},
   "outputs": [],
   "source": [
    "sequence_objects, sequence , total_dis = TSP(cities)"
   ]
  },
  {
   "cell_type": "code",
   "execution_count": 12,
   "id": "23eb56cb",
   "metadata": {},
   "outputs": [
    {
     "data": {
      "text/plain": [
       "array([<__main__.City object at 0x000001CDF1785EB0>,\n",
       "       <__main__.City object at 0x000001CDF1785430>,\n",
       "       <__main__.City object at 0x000001CDF1785400>,\n",
       "       <__main__.City object at 0x000001CDF1785A60>,\n",
       "       <__main__.City object at 0x000001CDF1785940>,\n",
       "       <__main__.City object at 0x000001CDF1785CD0>,\n",
       "       <__main__.City object at 0x000001CDF1785FA0>,\n",
       "       <__main__.City object at 0x000001CDF1785BE0>,\n",
       "       <__main__.City object at 0x000001CDF17854C0>,\n",
       "       <__main__.City object at 0x000001CDF1785C10>,\n",
       "       <__main__.City object at 0x000001CDF17855E0>,\n",
       "       <__main__.City object at 0x000001CDF1785EE0>,\n",
       "       <__main__.City object at 0x000001CDF1785DC0>,\n",
       "       <__main__.City object at 0x000001CDF1785B50>,\n",
       "       <__main__.City object at 0x000001CDF1785D90>,\n",
       "       <__main__.City object at 0x000001CDF1785EB0>], dtype=object)"
      ]
     },
     "execution_count": 12,
     "metadata": {},
     "output_type": "execute_result"
    }
   ],
   "source": [
    "sequence_objects"
   ]
  },
  {
   "cell_type": "code",
   "execution_count": 13,
   "id": "a46bfef7",
   "metadata": {},
   "outputs": [
    {
     "data": {
      "text/plain": [
       "array([15.,  9.,  5.,  7.,  3., 12., 14., 10.,  8.,  6.,  4., 11.,  1.,\n",
       "       13.,  2., 15.])"
      ]
     },
     "execution_count": 13,
     "metadata": {},
     "output_type": "execute_result"
    }
   ],
   "source": [
    "sequence"
   ]
  },
  {
   "cell_type": "code",
   "execution_count": 14,
   "id": "d4f011f3",
   "metadata": {},
   "outputs": [
    {
     "data": {
      "text/plain": [
       "284.3810904080332"
      ]
     },
     "execution_count": 14,
     "metadata": {},
     "output_type": "execute_result"
    }
   ],
   "source": [
    "total_dis"
   ]
  },
  {
   "cell_type": "code",
   "execution_count": 15,
   "id": "feee8117",
   "metadata": {},
   "outputs": [],
   "source": [
    "import matplotlib.pyplot as plt"
   ]
  },
  {
   "cell_type": "code",
   "execution_count": 16,
   "id": "a74c1f8d",
   "metadata": {},
   "outputs": [
    {
     "data": {
      "image/png": "[encoded data removed]",
      "text/plain": [
       "<Figure size 576x576 with 1 Axes>"
      ]
     },
     "metadata": {
      "needs_background": "light"
     },
     "output_type": "display_data"
    }
   ],
   "source": [
    "plt.figure(figsize=(8, 8))\n",
    "plt.scatter(sequence_objects[0].long, sequence_objects[0].lat, label=sequence_objects[0].name, color='red', marker='o', s=200)\n",
    "for i in range(len(sequence_objects)-1):\n",
    "    plt.scatter(sequence_objects[i].long, sequence_objects[i].lat, label=sequence_objects[i].name)\n",
    "    plt.plot([sequence_objects[i].long, sequence_objects[i + 1].long], [sequence_objects[i].lat, sequence_objects[i + 1].lat])"
   ]
  },
  {
   "cell_type": "code",
   "execution_count": null,
   "id": "e622a044",
   "metadata": {},
   "outputs": [],
   "source": []
  }
 ],
 "metadata": {
  "kernelspec": {
   "display_name": "Python 3 (ipykernel)",
   "language": "python",
   "name": "python3"
  },
  "language_info": {
   "codemirror_mode": {
    "name": "ipython",
    "version": 3
   },
   "file_extension": ".py",
   "mimetype": "text/x-python",
   "name": "python",
   "nbconvert_exporter": "python",
   "pygments_lexer": "ipython3",
   "version": "3.9.12"
  }
 },
 "nbformat": 4,
 "nbformat_minor": 5
}
