{
 "cells": [
  {
   "cell_type": "markdown",
   "metadata": {
    "id": "vAXEKvNzNdjD"
   },
   "source": [
    "$$ ITI \\space AI-Pro: \\space Intake \\space 44 $$\n",
    "$$ Recommender \\space Systems $$\n",
    "$$ Lab \\space no. \\space 3 $$"
   ]
  },
  {
   "cell_type": "markdown",
   "metadata": {
    "id": "OhXUq0fxNdjF"
   },
   "source": [
    "# `01` Import Necessary Libraries"
   ]
  },
  {
   "cell_type": "markdown",
   "metadata": {
    "id": "f_Hm7bFcNdjG"
   },
   "source": [
    "## `i` Default Libraries"
   ]
  },
  {
   "cell_type": "code",
   "execution_count": 2,
   "metadata": {
    "id": "iLtkrZySNdjH"
   },
   "outputs": [],
   "source": [
    "import numpy as np\n",
    "import pandas as pd\n",
    "from surprise.reader import Reader\n",
    "from surprise.dataset import Dataset\n",
    "from surprise.model_selection import train_test_split\n",
    "from surprise.prediction_algorithms.knns import KNNWithMeans \n",
    "from surprise.prediction_algorithms import SVD\n",
    "import surprise"
   ]
  },
  {
   "cell_type": "markdown",
   "metadata": {
    "id": "9WRXo8UpNdjI"
   },
   "source": [
    "## `ii` Additional Libraries\n",
    "Add imports for additional libraries you used throughout the notebook"
   ]
  },
  {
   "cell_type": "code",
   "execution_count": null,
   "metadata": {
    "id": "VlMLVZwENdjJ"
   },
   "outputs": [],
   "source": []
  },
  {
   "cell_type": "markdown",
   "metadata": {
    "id": "IU8nwlkPNdjJ"
   },
   "source": [
    "----------------------------\n",
    "\n",
    "# `02` Load Data\n",
    "\n",
    "Load `songsDataset.csv` file into a dataframe"
   ]
  },
  {
   "cell_type": "code",
   "execution_count": 3,
   "metadata": {
    "id": "KppQFXKLNdjJ",
    "outputId": "51b51290-9de0-4c3e-b97a-d15111cff442"
   },
   "outputs": [
    {
     "data": {
      "text/html": [
       "<div>\n",
       "<style scoped>\n",
       "    .dataframe tbody tr th:only-of-type {\n",
       "        vertical-align: middle;\n",
       "    }\n",
       "\n",
       "    .dataframe tbody tr th {\n",
       "        vertical-align: top;\n",
       "    }\n",
       "\n",
       "    .dataframe thead th {\n",
       "        text-align: right;\n",
       "    }\n",
       "</style>\n",
       "<table border=\"1\" class=\"dataframe\">\n",
       "  <thead>\n",
       "    <tr style=\"text-align: right;\">\n",
       "      <th></th>\n",
       "      <th>userID</th>\n",
       "      <th>songID</th>\n",
       "      <th>rating</th>\n",
       "    </tr>\n",
       "  </thead>\n",
       "  <tbody>\n",
       "    <tr>\n",
       "      <th>0</th>\n",
       "      <td>0</td>\n",
       "      <td>90409</td>\n",
       "      <td>5</td>\n",
       "    </tr>\n",
       "    <tr>\n",
       "      <th>1</th>\n",
       "      <td>4</td>\n",
       "      <td>91266</td>\n",
       "      <td>1</td>\n",
       "    </tr>\n",
       "    <tr>\n",
       "      <th>2</th>\n",
       "      <td>5</td>\n",
       "      <td>8063</td>\n",
       "      <td>2</td>\n",
       "    </tr>\n",
       "    <tr>\n",
       "      <th>3</th>\n",
       "      <td>5</td>\n",
       "      <td>24427</td>\n",
       "      <td>4</td>\n",
       "    </tr>\n",
       "    <tr>\n",
       "      <th>4</th>\n",
       "      <td>5</td>\n",
       "      <td>105433</td>\n",
       "      <td>4</td>\n",
       "    </tr>\n",
       "  </tbody>\n",
       "</table>\n",
       "</div>"
      ],
      "text/plain": [
       "   userID  songID  rating\n",
       "0       0   90409       5\n",
       "1       4   91266       1\n",
       "2       5    8063       2\n",
       "3       5   24427       4\n",
       "4       5  105433       4"
      ]
     },
     "execution_count": 3,
     "metadata": {},
     "output_type": "execute_result"
    }
   ],
   "source": [
    "data = pd.read_csv(\"Data/songsDataset.csv\")\n",
    "data.head()"
   ]
  },
  {
   "cell_type": "markdown",
   "metadata": {
    "id": "fUkYSo7_NdjJ"
   },
   "source": [
    "--------------------------\n",
    "\n",
    "# `03` Matrix Factorization using Gradient Descent\n",
    "\n",
    "Practice for Matrix Factorization Implementation"
   ]
  },
  {
   "cell_type": "markdown",
   "metadata": {
    "id": "D5z2esDrNdjJ"
   },
   "source": [
    "**Matrix Factorization Mathematical Derivation**\n",
    "\n",
    "We know that the matrix factorization breaks the rating matrix $R$ into two matrices $U \\in \\mathbb{R}^{\\#users \\times K}$ and $M \\in \\mathbb{R}^{K \\times \\#items}$ where K represent the latent space dimensionality.\n",
    "\n",
    "$R$ can then be approximated through the following equation:\n",
    "\n",
    "$$\n",
    "\\mathbf{R} \\approx \\mathbf{U} \\times \\mathbf{M} = \\hat{\\mathbf{R}}\n",
    "$$\n",
    "\n",
    "The error, incorporating the regularization term, is calculated as follows:\n",
    "\n",
    "$$\n",
    "e_{ij}^2 = (r_{ij} - \\sum_{k=1}^K{u_{ik}m_{kj}})^2 + \\frac{\\beta}{2} \\sum_{k=1}^K{(||U||^2 + ||M||^2)}\n",
    "$$\n",
    "\n",
    "In order to be able to use Stochastic Gradient Descent (SGD) to optimize $U$ and $M$, we need to find the partial derivatives of the error function with respect to both $u_{ik}$ and $m_{kj}$. The partial derivatives can be derived as follows:\n",
    "\n",
    "$$\n",
    "\\frac{\\partial}{\\partial u_{ik}}e_{ij}^2 = -2(r_{ij} - \\hat{r}_{ij})(m_{kj}) + \\frac{\\beta}{2} \\times (2 u_{ik}) = -2 e_{ij} m_{kj} + \\beta u_{ik}\n",
    "$$\n",
    "\n",
    "$$\n",
    "\\frac{\\partial}{\\partial m_{ik}}e_{ij}^2 = -2(r_{ij} - \\hat{r}_{ij})(u_{ik}) + \\frac{\\beta}{2} \\times (2 m_{kj}) = -2 e_{ij} u_{ik} + \\beta m_{kj}\n",
    "$$\n",
    "\n",
    "Thus the update rules will be:\n",
    "\n",
    "$$\n",
    "u'_{ik} = u_{ik} + \\alpha \\frac{\\partial}{\\partial u_{ik}}e_{ij}^2 = u_{ik} - \\alpha(-2 e_{ij} m_{kj} + \\beta u_{ik} ) = u_{ik} + \\alpha(2 e_{ij} m_{kj} - \\beta u_{ik} )\n",
    "$$\n",
    "\n",
    "$$\n",
    "m'_{kj} = m_{kj} + \\alpha \\frac{\\partial}{\\partial m_{kj}}e_{ij}^2 = m_{kj} - \\alpha(-2 e_{ij} u_{ik} + \\beta m_{kj} ) = m_{kj} + \\alpha(2 e_{ij} u_{ik} - \\beta m_{kj} )\n",
    "$$"
   ]
  },
  {
   "cell_type": "markdown",
   "metadata": {
    "id": "gEBYlA7RNdjK"
   },
   "source": [
    "## `0` Construct Utility Matrix from the Data"
   ]
  },
  {
   "cell_type": "code",
   "execution_count": 4,
   "metadata": {
    "id": "0AMdl6HRNdjK",
    "outputId": "ce247800-299a-4af1-8de2-0cc32eace722"
   },
   "outputs": [
    {
     "data": {
      "text/html": [
       "<div>\n",
       "<style scoped>\n",
       "    .dataframe tbody tr th:only-of-type {\n",
       "        vertical-align: middle;\n",
       "    }\n",
       "\n",
       "    .dataframe tbody tr th {\n",
       "        vertical-align: top;\n",
       "    }\n",
       "\n",
       "    .dataframe thead th {\n",
       "        text-align: right;\n",
       "    }\n",
       "</style>\n",
       "<table border=\"1\" class=\"dataframe\">\n",
       "  <thead>\n",
       "    <tr style=\"text-align: right;\">\n",
       "      <th>songID</th>\n",
       "      <th>2263</th>\n",
       "      <th>2726</th>\n",
       "      <th>3785</th>\n",
       "      <th>8063</th>\n",
       "      <th>12709</th>\n",
       "      <th>13859</th>\n",
       "      <th>16548</th>\n",
       "      <th>17029</th>\n",
       "      <th>19299</th>\n",
       "      <th>19670</th>\n",
       "      <th>...</th>\n",
       "      <th>113954</th>\n",
       "      <th>119103</th>\n",
       "      <th>120147</th>\n",
       "      <th>122065</th>\n",
       "      <th>123176</th>\n",
       "      <th>125557</th>\n",
       "      <th>126757</th>\n",
       "      <th>131048</th>\n",
       "      <th>132189</th>\n",
       "      <th>134732</th>\n",
       "    </tr>\n",
       "    <tr>\n",
       "      <th>userID</th>\n",
       "      <th></th>\n",
       "      <th></th>\n",
       "      <th></th>\n",
       "      <th></th>\n",
       "      <th></th>\n",
       "      <th></th>\n",
       "      <th></th>\n",
       "      <th></th>\n",
       "      <th></th>\n",
       "      <th></th>\n",
       "      <th></th>\n",
       "      <th></th>\n",
       "      <th></th>\n",
       "      <th></th>\n",
       "      <th></th>\n",
       "      <th></th>\n",
       "      <th></th>\n",
       "      <th></th>\n",
       "      <th></th>\n",
       "      <th></th>\n",
       "      <th></th>\n",
       "    </tr>\n",
       "  </thead>\n",
       "  <tbody>\n",
       "    <tr>\n",
       "      <th>0</th>\n",
       "      <td>0.0</td>\n",
       "      <td>0.0</td>\n",
       "      <td>0.0</td>\n",
       "      <td>0.0</td>\n",
       "      <td>0.0</td>\n",
       "      <td>0.0</td>\n",
       "      <td>0.0</td>\n",
       "      <td>0.0</td>\n",
       "      <td>0.0</td>\n",
       "      <td>0.0</td>\n",
       "      <td>...</td>\n",
       "      <td>0.0</td>\n",
       "      <td>0.0</td>\n",
       "      <td>0.0</td>\n",
       "      <td>0.0</td>\n",
       "      <td>0.0</td>\n",
       "      <td>0.0</td>\n",
       "      <td>0.0</td>\n",
       "      <td>0.0</td>\n",
       "      <td>0.0</td>\n",
       "      <td>0.0</td>\n",
       "    </tr>\n",
       "    <tr>\n",
       "      <th>4</th>\n",
       "      <td>0.0</td>\n",
       "      <td>0.0</td>\n",
       "      <td>0.0</td>\n",
       "      <td>0.0</td>\n",
       "      <td>0.0</td>\n",
       "      <td>0.0</td>\n",
       "      <td>0.0</td>\n",
       "      <td>0.0</td>\n",
       "      <td>0.0</td>\n",
       "      <td>0.0</td>\n",
       "      <td>...</td>\n",
       "      <td>0.0</td>\n",
       "      <td>0.0</td>\n",
       "      <td>0.0</td>\n",
       "      <td>0.0</td>\n",
       "      <td>0.0</td>\n",
       "      <td>0.0</td>\n",
       "      <td>0.0</td>\n",
       "      <td>0.0</td>\n",
       "      <td>0.0</td>\n",
       "      <td>0.0</td>\n",
       "    </tr>\n",
       "    <tr>\n",
       "      <th>5</th>\n",
       "      <td>0.0</td>\n",
       "      <td>0.0</td>\n",
       "      <td>0.0</td>\n",
       "      <td>2.0</td>\n",
       "      <td>0.0</td>\n",
       "      <td>0.0</td>\n",
       "      <td>0.0</td>\n",
       "      <td>0.0</td>\n",
       "      <td>0.0</td>\n",
       "      <td>0.0</td>\n",
       "      <td>...</td>\n",
       "      <td>0.0</td>\n",
       "      <td>0.0</td>\n",
       "      <td>0.0</td>\n",
       "      <td>0.0</td>\n",
       "      <td>0.0</td>\n",
       "      <td>0.0</td>\n",
       "      <td>0.0</td>\n",
       "      <td>0.0</td>\n",
       "      <td>0.0</td>\n",
       "      <td>0.0</td>\n",
       "    </tr>\n",
       "    <tr>\n",
       "      <th>7</th>\n",
       "      <td>0.0</td>\n",
       "      <td>0.0</td>\n",
       "      <td>0.0</td>\n",
       "      <td>0.0</td>\n",
       "      <td>0.0</td>\n",
       "      <td>0.0</td>\n",
       "      <td>0.0</td>\n",
       "      <td>0.0</td>\n",
       "      <td>0.0</td>\n",
       "      <td>0.0</td>\n",
       "      <td>...</td>\n",
       "      <td>0.0</td>\n",
       "      <td>0.0</td>\n",
       "      <td>0.0</td>\n",
       "      <td>0.0</td>\n",
       "      <td>0.0</td>\n",
       "      <td>0.0</td>\n",
       "      <td>0.0</td>\n",
       "      <td>0.0</td>\n",
       "      <td>0.0</td>\n",
       "      <td>3.0</td>\n",
       "    </tr>\n",
       "    <tr>\n",
       "      <th>14</th>\n",
       "      <td>0.0</td>\n",
       "      <td>0.0</td>\n",
       "      <td>0.0</td>\n",
       "      <td>0.0</td>\n",
       "      <td>0.0</td>\n",
       "      <td>0.0</td>\n",
       "      <td>0.0</td>\n",
       "      <td>0.0</td>\n",
       "      <td>0.0</td>\n",
       "      <td>0.0</td>\n",
       "      <td>...</td>\n",
       "      <td>0.0</td>\n",
       "      <td>0.0</td>\n",
       "      <td>0.0</td>\n",
       "      <td>0.0</td>\n",
       "      <td>0.0</td>\n",
       "      <td>0.0</td>\n",
       "      <td>0.0</td>\n",
       "      <td>0.0</td>\n",
       "      <td>0.0</td>\n",
       "      <td>0.0</td>\n",
       "    </tr>\n",
       "    <tr>\n",
       "      <th>...</th>\n",
       "      <td>...</td>\n",
       "      <td>...</td>\n",
       "      <td>...</td>\n",
       "      <td>...</td>\n",
       "      <td>...</td>\n",
       "      <td>...</td>\n",
       "      <td>...</td>\n",
       "      <td>...</td>\n",
       "      <td>...</td>\n",
       "      <td>...</td>\n",
       "      <td>...</td>\n",
       "      <td>...</td>\n",
       "      <td>...</td>\n",
       "      <td>...</td>\n",
       "      <td>...</td>\n",
       "      <td>...</td>\n",
       "      <td>...</td>\n",
       "      <td>...</td>\n",
       "      <td>...</td>\n",
       "      <td>...</td>\n",
       "      <td>...</td>\n",
       "    </tr>\n",
       "    <tr>\n",
       "      <th>199976</th>\n",
       "      <td>0.0</td>\n",
       "      <td>0.0</td>\n",
       "      <td>0.0</td>\n",
       "      <td>0.0</td>\n",
       "      <td>0.0</td>\n",
       "      <td>0.0</td>\n",
       "      <td>0.0</td>\n",
       "      <td>0.0</td>\n",
       "      <td>0.0</td>\n",
       "      <td>0.0</td>\n",
       "      <td>...</td>\n",
       "      <td>0.0</td>\n",
       "      <td>0.0</td>\n",
       "      <td>0.0</td>\n",
       "      <td>0.0</td>\n",
       "      <td>0.0</td>\n",
       "      <td>0.0</td>\n",
       "      <td>5.0</td>\n",
       "      <td>0.0</td>\n",
       "      <td>0.0</td>\n",
       "      <td>0.0</td>\n",
       "    </tr>\n",
       "    <tr>\n",
       "      <th>199980</th>\n",
       "      <td>0.0</td>\n",
       "      <td>0.0</td>\n",
       "      <td>0.0</td>\n",
       "      <td>0.0</td>\n",
       "      <td>0.0</td>\n",
       "      <td>0.0</td>\n",
       "      <td>0.0</td>\n",
       "      <td>0.0</td>\n",
       "      <td>0.0</td>\n",
       "      <td>0.0</td>\n",
       "      <td>...</td>\n",
       "      <td>0.0</td>\n",
       "      <td>0.0</td>\n",
       "      <td>0.0</td>\n",
       "      <td>0.0</td>\n",
       "      <td>0.0</td>\n",
       "      <td>0.0</td>\n",
       "      <td>0.0</td>\n",
       "      <td>0.0</td>\n",
       "      <td>0.0</td>\n",
       "      <td>0.0</td>\n",
       "    </tr>\n",
       "    <tr>\n",
       "      <th>199988</th>\n",
       "      <td>0.0</td>\n",
       "      <td>5.0</td>\n",
       "      <td>0.0</td>\n",
       "      <td>0.0</td>\n",
       "      <td>0.0</td>\n",
       "      <td>0.0</td>\n",
       "      <td>0.0</td>\n",
       "      <td>0.0</td>\n",
       "      <td>5.0</td>\n",
       "      <td>0.0</td>\n",
       "      <td>...</td>\n",
       "      <td>0.0</td>\n",
       "      <td>0.0</td>\n",
       "      <td>0.0</td>\n",
       "      <td>0.0</td>\n",
       "      <td>0.0</td>\n",
       "      <td>0.0</td>\n",
       "      <td>0.0</td>\n",
       "      <td>0.0</td>\n",
       "      <td>0.0</td>\n",
       "      <td>0.0</td>\n",
       "    </tr>\n",
       "    <tr>\n",
       "      <th>199990</th>\n",
       "      <td>0.0</td>\n",
       "      <td>0.0</td>\n",
       "      <td>0.0</td>\n",
       "      <td>0.0</td>\n",
       "      <td>0.0</td>\n",
       "      <td>0.0</td>\n",
       "      <td>0.0</td>\n",
       "      <td>0.0</td>\n",
       "      <td>0.0</td>\n",
       "      <td>0.0</td>\n",
       "      <td>...</td>\n",
       "      <td>0.0</td>\n",
       "      <td>0.0</td>\n",
       "      <td>0.0</td>\n",
       "      <td>0.0</td>\n",
       "      <td>0.0</td>\n",
       "      <td>0.0</td>\n",
       "      <td>0.0</td>\n",
       "      <td>0.0</td>\n",
       "      <td>0.0</td>\n",
       "      <td>0.0</td>\n",
       "    </tr>\n",
       "    <tr>\n",
       "      <th>199996</th>\n",
       "      <td>5.0</td>\n",
       "      <td>0.0</td>\n",
       "      <td>0.0</td>\n",
       "      <td>0.0</td>\n",
       "      <td>0.0</td>\n",
       "      <td>0.0</td>\n",
       "      <td>0.0</td>\n",
       "      <td>0.0</td>\n",
       "      <td>0.0</td>\n",
       "      <td>0.0</td>\n",
       "      <td>...</td>\n",
       "      <td>0.0</td>\n",
       "      <td>0.0</td>\n",
       "      <td>0.0</td>\n",
       "      <td>0.0</td>\n",
       "      <td>0.0</td>\n",
       "      <td>0.0</td>\n",
       "      <td>0.0</td>\n",
       "      <td>0.0</td>\n",
       "      <td>0.0</td>\n",
       "      <td>0.0</td>\n",
       "    </tr>\n",
       "  </tbody>\n",
       "</table>\n",
       "<p>53963 rows × 56 columns</p>\n",
       "</div>"
      ],
      "text/plain": [
       "songID  2263    2726    3785    8063    12709   13859   16548   17029   \\\n",
       "userID                                                                   \n",
       "0          0.0     0.0     0.0     0.0     0.0     0.0     0.0     0.0   \n",
       "4          0.0     0.0     0.0     0.0     0.0     0.0     0.0     0.0   \n",
       "5          0.0     0.0     0.0     2.0     0.0     0.0     0.0     0.0   \n",
       "7          0.0     0.0     0.0     0.0     0.0     0.0     0.0     0.0   \n",
       "14         0.0     0.0     0.0     0.0     0.0     0.0     0.0     0.0   \n",
       "...        ...     ...     ...     ...     ...     ...     ...     ...   \n",
       "199976     0.0     0.0     0.0     0.0     0.0     0.0     0.0     0.0   \n",
       "199980     0.0     0.0     0.0     0.0     0.0     0.0     0.0     0.0   \n",
       "199988     0.0     5.0     0.0     0.0     0.0     0.0     0.0     0.0   \n",
       "199990     0.0     0.0     0.0     0.0     0.0     0.0     0.0     0.0   \n",
       "199996     5.0     0.0     0.0     0.0     0.0     0.0     0.0     0.0   \n",
       "\n",
       "songID  19299   19670   ...  113954  119103  120147  122065  123176  125557  \\\n",
       "userID                  ...                                                   \n",
       "0          0.0     0.0  ...     0.0     0.0     0.0     0.0     0.0     0.0   \n",
       "4          0.0     0.0  ...     0.0     0.0     0.0     0.0     0.0     0.0   \n",
       "5          0.0     0.0  ...     0.0     0.0     0.0     0.0     0.0     0.0   \n",
       "7          0.0     0.0  ...     0.0     0.0     0.0     0.0     0.0     0.0   \n",
       "14         0.0     0.0  ...     0.0     0.0     0.0     0.0     0.0     0.0   \n",
       "...        ...     ...  ...     ...     ...     ...     ...     ...     ...   \n",
       "199976     0.0     0.0  ...     0.0     0.0     0.0     0.0     0.0     0.0   \n",
       "199980     0.0     0.0  ...     0.0     0.0     0.0     0.0     0.0     0.0   \n",
       "199988     5.0     0.0  ...     0.0     0.0     0.0     0.0     0.0     0.0   \n",
       "199990     0.0     0.0  ...     0.0     0.0     0.0     0.0     0.0     0.0   \n",
       "199996     0.0     0.0  ...     0.0     0.0     0.0     0.0     0.0     0.0   \n",
       "\n",
       "songID  126757  131048  132189  134732  \n",
       "userID                                  \n",
       "0          0.0     0.0     0.0     0.0  \n",
       "4          0.0     0.0     0.0     0.0  \n",
       "5          0.0     0.0     0.0     0.0  \n",
       "7          0.0     0.0     0.0     3.0  \n",
       "14         0.0     0.0     0.0     0.0  \n",
       "...        ...     ...     ...     ...  \n",
       "199976     5.0     0.0     0.0     0.0  \n",
       "199980     0.0     0.0     0.0     0.0  \n",
       "199988     0.0     0.0     0.0     0.0  \n",
       "199990     0.0     0.0     0.0     0.0  \n",
       "199996     0.0     0.0     0.0     0.0  \n",
       "\n",
       "[53963 rows x 56 columns]"
      ]
     },
     "execution_count": 4,
     "metadata": {},
     "output_type": "execute_result"
    }
   ],
   "source": [
    "utility_matrix = data.pivot(index='userID', columns='songID', values='rating').fillna(0)\n",
    "utility_matrix"
   ]
  },
  {
   "cell_type": "markdown",
   "metadata": {
    "id": "n9QGfMQ6NdjL"
   },
   "source": [
    "## `i` Matrices Initialization\n",
    "\n",
    "Initialize the two random weights matrices $U$ and $M$ (Try $K=3$)\n",
    "\n",
    "**Note**: Refer to the next cell for the dimensions of $U$ and $M$\n",
    "\n",
    "**Hine**: You may use a function from `numpy.random` module (see, [Documentation](https://numpy.org/doc/stable/reference/random/index.html))"
   ]
  },
  {
   "cell_type": "code",
   "execution_count": 5,
   "metadata": {},
   "outputs": [],
   "source": [
    "no_users = utility_matrix.shape[0]\n",
    "no_songs = utility_matrix.shape[1]\n",
    "k = 3"
   ]
  },
  {
   "cell_type": "code",
   "execution_count": 6,
   "metadata": {
    "id": "C_EVI8PxNdjL"
   },
   "outputs": [],
   "source": [
    "np.random.seed(23)\n",
    "U = np.random.rand(no_users, k)\n",
    "M = np.random.rand(k, no_songs)"
   ]
  },
  {
   "cell_type": "markdown",
   "metadata": {
    "id": "mm4t3qKgNdjM"
   },
   "source": [
    "## `ii` Define a Function to Implement Matrix Factorization\n",
    "\n",
    "**Function Parameters**:\n",
    "- `R`: Utility Matrix [of shape: (no. of users, no. of items)]\n",
    "- `U`: User Latent Features Array [of shape: (no. of users, K)]\n",
    "- `M`: Items Latent Features Array [of shape: (K, no. of items)]\n",
    "- `epochs`: No. of training epochs\n",
    "- `lr`: Learning rate (alpha)\n",
    "- `beta`: Regularization Parameter\n",
    "\n",
    "**Function Output**:\n",
    "- `U`: Optimized User Latent Features Array\n",
    "- `M`: Optimized Items Latent Features Array\n",
    "\n",
    "**Main Procedures**:\n",
    "1. Calculate predicted ratings\n",
    "2. Calculate MSE Error\n",
    "3. Calculate gradients\n",
    "4. Update $U$ and $M$\n"
   ]
  },
  {
   "cell_type": "code",
   "execution_count": 7,
   "metadata": {
    "id": "Lon7ovGdNdjM"
   },
   "outputs": [],
   "source": [
    "def matrix_factorization(R: np.ndarray, U: np.ndarray, M: np.ndarray, epochs: int, lr: float, beta: float):\n",
    "    \"\"\"\n",
    "    Function Parameters:\n",
    "    - `R`: Utility Matrix [of shape: `(no. of users, no. of items)`]\n",
    "    - `U`: User Latent Features Array [of shape: `(no. of users, K)`]\n",
    "    - `M`: Items Latent Features Array [of shape: `(K, no. of items)`]\n",
    "    - `epochs`: No. of training epochs\n",
    "    - `lr`: Learning rate (alpha)\n",
    "    - `beta`: Regularization Parameter\n",
    "\n",
    "    Function Output:\n",
    "    - `U`: Optimized User Latent Features Array\n",
    "    - `M`: Optimized Items Latent Features Array\n",
    "    \"\"\"\n",
    "\n",
    "    # Confirm that no. of features is consistent between U and M\n",
    "    assert U.shape[1] == M.shape[0], f'U and M must have consistent K. Found K={U.shape[1]} for U and K={M.shape[0]} for M'\n",
    "\n",
    "    # Extract No. of Features (K)\n",
    "    K = U.shape[1]\n",
    "\n",
    "    # Define the Epochs loop\n",
    "    for epoch in range(epochs):\n",
    "        # Loop over every element in R\n",
    "        for i in range(no_users): # Loop over each user\n",
    "            for j in range(no_songs): # Loop over each item\n",
    "                if R[i][j] != 0: # Only proceed if the current interaction (i, j) is not missing\n",
    "                    eij = (R[i][j] - (U[i] @ M[:,j])) # Calculate the error in prediction\n",
    "                    for k in range(K): # Loop over each latent features dimension\n",
    "                        # Update Rules for both U and M:\n",
    "                        U[i, k] = U[i, k] + lr * (2 * eij * (M[k, j] - beta * U[i, k]))\n",
    "                        M[k, j] = M[k, j] + lr * (2 * eij * (U[i, k] - beta * M[k, j]))\n",
    "\n",
    "\n",
    "        ## Error Calculation ##\n",
    "        e_last = e if epoch > 0 else 100000000\n",
    "        e = 0 # Initialize a variable to accumelate the errors\n",
    "        for i in range(no_users): # Loop over each user\n",
    "            for j in range(no_songs): # Loop over each item\n",
    "                if R[i][j] != 0: # Only proceed if the current interaction (i, j) is not missing\n",
    "                                # since we only calculate the error for interactions having a ground truth value\n",
    "\n",
    "                    first_part = (R[i][j] - (U[i] @ M[:,j]))**2 # calculate the first part of the error\n",
    "                    second_part = 0 # Initialize a variable to accumelate the second part of the error\n",
    "\n",
    "                    for k in range(K): # Loop over each latent features dimension\n",
    "                        second_part += beta/2 * (np.linalg.norm(U[i])**2 + np.linalg.norm(M[:,j])**2)\n",
    "\n",
    "                    e += first_part + second_part # accumelate the error to the total error\n",
    "\n",
    "        print(f'Epoch {epoch+1}/{epochs}: Total Error = {e}')\n",
    "\n",
    "        if e < 0.001 or e_last-e < 0.001: # Stop if error is so small or improvement is not significant\n",
    "            break\n",
    "\n",
    "    return U, M\n"
   ]
  },
  {
   "cell_type": "markdown",
   "metadata": {
    "id": "_eTo-YOaNdjM"
   },
   "source": [
    "### `[Bonus]` Vectorized Error Calculation\n",
    "\n",
    "Can the error calculation part be vectorized to get rid of for loops?\n",
    "\n",
    "If you would like a challenge, try to redefine the function in the next cell with a vectorized error calculation."
   ]
  },
  {
   "cell_type": "code",
   "execution_count": null,
   "metadata": {
    "id": "Wkwjc7s0NdjN"
   },
   "outputs": [],
   "source": []
  },
  {
   "cell_type": "markdown",
   "metadata": {
    "id": "1jDu2LCeNdjN"
   },
   "source": [
    "## `iii` Use the Function to to Optimize the $U$ and $V$"
   ]
  },
  {
   "cell_type": "code",
   "execution_count": 11,
   "metadata": {
    "id": "tyUWxdKzNdjN"
   },
   "outputs": [
    {
     "name": "stdout",
     "output_type": "stream",
     "text": [
      "Epoch 1/10: Total Error = 164392.01608698926\n",
      "Epoch 2/10: Total Error = 155812.07123563671\n",
      "Epoch 3/10: Total Error = 147901.44814339426\n",
      "Epoch 4/10: Total Error = 140603.6310917385\n",
      "Epoch 5/10: Total Error = 133867.07569297997\n",
      "Epoch 6/10: Total Error = 127644.77737890398\n",
      "Epoch 7/10: Total Error = 121893.88723146277\n",
      "Epoch 8/10: Total Error = 116575.35823847649\n",
      "Epoch 9/10: Total Error = 111653.61536261246\n",
      "Epoch 10/10: Total Error = 107096.24752131612\n"
     ]
    }
   ],
   "source": [
    "U, M = matrix_factorization(R=utility_matrix.values, U=U, M=M, epochs=10, lr=0.001, beta=0.01)"
   ]
  },
  {
   "cell_type": "markdown",
   "metadata": {
    "id": "RqASGwFQNdjN"
   },
   "source": [
    "## `iv` Recommend top-K Songs\n",
    "\n",
    "Recommend top-K ($K=5$) songs for user ($userID=199988$)\n",
    "\n",
    "Note: Make sure to filter songs they already rated before"
   ]
  },
  {
   "cell_type": "code",
   "execution_count": 12,
   "metadata": {
    "id": "RciNifgfNdjN"
   },
   "outputs": [],
   "source": [
    "Predicted = U @ M"
   ]
  },
  {
   "cell_type": "code",
   "execution_count": 13,
   "metadata": {},
   "outputs": [],
   "source": [
    "predicted_df = pd.DataFrame(data = Predicted , index=utility_matrix.index, columns=utility_matrix.columns)"
   ]
  },
  {
   "cell_type": "code",
   "execution_count": 18,
   "metadata": {},
   "outputs": [
    {
     "data": {
      "text/html": [
       "<div>\n",
       "<style scoped>\n",
       "    .dataframe tbody tr th:only-of-type {\n",
       "        vertical-align: middle;\n",
       "    }\n",
       "\n",
       "    .dataframe tbody tr th {\n",
       "        vertical-align: top;\n",
       "    }\n",
       "\n",
       "    .dataframe thead th {\n",
       "        text-align: right;\n",
       "    }\n",
       "</style>\n",
       "<table border=\"1\" class=\"dataframe\">\n",
       "  <thead>\n",
       "    <tr style=\"text-align: right;\">\n",
       "      <th>songID</th>\n",
       "      <th>2263</th>\n",
       "      <th>2726</th>\n",
       "      <th>3785</th>\n",
       "      <th>8063</th>\n",
       "      <th>12709</th>\n",
       "      <th>13859</th>\n",
       "      <th>16548</th>\n",
       "      <th>17029</th>\n",
       "      <th>19299</th>\n",
       "      <th>19670</th>\n",
       "      <th>...</th>\n",
       "      <th>113954</th>\n",
       "      <th>119103</th>\n",
       "      <th>120147</th>\n",
       "      <th>122065</th>\n",
       "      <th>123176</th>\n",
       "      <th>125557</th>\n",
       "      <th>126757</th>\n",
       "      <th>131048</th>\n",
       "      <th>132189</th>\n",
       "      <th>134732</th>\n",
       "    </tr>\n",
       "    <tr>\n",
       "      <th>userID</th>\n",
       "      <th></th>\n",
       "      <th></th>\n",
       "      <th></th>\n",
       "      <th></th>\n",
       "      <th></th>\n",
       "      <th></th>\n",
       "      <th></th>\n",
       "      <th></th>\n",
       "      <th></th>\n",
       "      <th></th>\n",
       "      <th></th>\n",
       "      <th></th>\n",
       "      <th></th>\n",
       "      <th></th>\n",
       "      <th></th>\n",
       "      <th></th>\n",
       "      <th></th>\n",
       "      <th></th>\n",
       "      <th></th>\n",
       "      <th></th>\n",
       "      <th></th>\n",
       "    </tr>\n",
       "  </thead>\n",
       "  <tbody>\n",
       "    <tr>\n",
       "      <th>199988</th>\n",
       "      <td>4.78449</td>\n",
       "      <td>4.023625</td>\n",
       "      <td>4.31621</td>\n",
       "      <td>4.706907</td>\n",
       "      <td>4.051307</td>\n",
       "      <td>4.728691</td>\n",
       "      <td>4.074786</td>\n",
       "      <td>3.905595</td>\n",
       "      <td>4.694102</td>\n",
       "      <td>3.737918</td>\n",
       "      <td>...</td>\n",
       "      <td>4.483545</td>\n",
       "      <td>3.670355</td>\n",
       "      <td>4.266319</td>\n",
       "      <td>4.78136</td>\n",
       "      <td>4.412065</td>\n",
       "      <td>4.763623</td>\n",
       "      <td>4.565861</td>\n",
       "      <td>4.247964</td>\n",
       "      <td>4.682229</td>\n",
       "      <td>4.410509</td>\n",
       "    </tr>\n",
       "  </tbody>\n",
       "</table>\n",
       "<p>1 rows × 56 columns</p>\n",
       "</div>"
      ],
      "text/plain": [
       "songID   2263      2726     3785      8063      12709     13859     16548   \\\n",
       "userID                                                                       \n",
       "199988  4.78449  4.023625  4.31621  4.706907  4.051307  4.728691  4.074786   \n",
       "\n",
       "songID    17029     19299     19670   ...    113954    119103    120147  \\\n",
       "userID                                ...                                 \n",
       "199988  3.905595  4.694102  3.737918  ...  4.483545  3.670355  4.266319   \n",
       "\n",
       "songID   122065    123176    125557    126757    131048    132189    134732  \n",
       "userID                                                                       \n",
       "199988  4.78136  4.412065  4.763623  4.565861  4.247964  4.682229  4.410509  \n",
       "\n",
       "[1 rows x 56 columns]"
      ]
     },
     "execution_count": 18,
     "metadata": {},
     "output_type": "execute_result"
    }
   ],
   "source": [
    "predicted_df[predicted_df.index == 199988]"
   ]
  },
  {
   "cell_type": "code",
   "execution_count": null,
   "metadata": {
    "id": "kRdjpCzhNdjN",
    "outputId": "12263ce6-fb20-41f9-a583-20cf063ee3d5"
   },
   "outputs": [
    {
     "name": "stdout",
     "output_type": "stream",
     "text": [
      "Top 5 Recommended Items for User 199988:\n",
      "\t- Top 1 Song: 122065 (Predicted Rating: 6.006507760135539)\n",
      "\t- Top 2 Song: 125557 (Predicted Rating: 5.819802641310125)\n",
      "\t- Top 3 Song: 52611 (Predicted Rating: 5.740148229067794)\n",
      "\t- Top 4 Song: 79622 (Predicted Rating: 5.701478248255747)\n",
      "\t- Top 5 Song: 71582 (Predicted Rating: 5.691077461653294)\n"
     ]
    }
   ],
   "source": []
  },
  {
   "cell_type": "markdown",
   "metadata": {
    "id": "3x8YZKJFNdjO"
   },
   "source": [
    "------------------------\n",
    "\n",
    "# `04` Matrix Factorization using SVD Algorithm\n",
    "\n",
    "Practice for using `SVD` algorithm implementation from `scikit surprise` library."
   ]
  },
  {
   "cell_type": "markdown",
   "metadata": {
    "id": "m6-zG0jINdjO"
   },
   "source": [
    "## `i` Prepare the Data\n",
    "\n",
    "- Load the Data into `surprise` Dataset\n",
    "- Split data into train and test\n"
   ]
  },
  {
   "cell_type": "code",
   "execution_count": 10,
   "metadata": {
    "id": "ouBYdJGQNdjO"
   },
   "outputs": [],
   "source": [
    "df = data"
   ]
  },
  {
   "cell_type": "code",
   "execution_count": 11,
   "metadata": {},
   "outputs": [],
   "source": [
    "reader = surprise.reader.Reader(rating_scale=(1, 5))"
   ]
  },
  {
   "cell_type": "code",
   "execution_count": 12,
   "metadata": {},
   "outputs": [
    {
     "data": {
      "text/plain": [
       "<surprise.dataset.DatasetAutoFolds at 0x1603dcf49a0>"
      ]
     },
     "execution_count": 12,
     "metadata": {},
     "output_type": "execute_result"
    }
   ],
   "source": [
    "dataset = surprise.dataset.Dataset.load_from_df(df, reader)\n",
    "dataset"
   ]
  },
  {
   "cell_type": "code",
   "execution_count": 13,
   "metadata": {},
   "outputs": [
    {
     "data": {
      "text/plain": [
       "<surprise.trainset.Trainset at 0x1603cf8a910>"
      ]
     },
     "execution_count": 13,
     "metadata": {},
     "output_type": "execute_result"
    }
   ],
   "source": [
    "trainset = dataset.build_full_trainset()\n",
    "trainset"
   ]
  },
  {
   "cell_type": "code",
   "execution_count": 14,
   "metadata": {},
   "outputs": [],
   "source": [
    "train, test = surprise.model_selection.split.train_test_split(dataset, 0.2, random_state=1234)"
   ]
  },
  {
   "cell_type": "code",
   "execution_count": 15,
   "metadata": {},
   "outputs": [
    {
     "data": {
      "text/plain": [
       "(38388, 79622, 1.0)"
      ]
     },
     "execution_count": 15,
     "metadata": {},
     "output_type": "execute_result"
    }
   ],
   "source": [
    "test[0]"
   ]
  },
  {
   "cell_type": "code",
   "execution_count": null,
   "metadata": {},
   "outputs": [],
   "source": []
  },
  {
   "cell_type": "markdown",
   "metadata": {
    "id": "R-bvTaz0NdjO"
   },
   "source": [
    "## `ii` Model Initialization\n",
    "\n",
    "Instantiate two models:\n",
    "- Model with baselines (biases)\n",
    "- Model without baselines\n",
    "\n",
    "**Note**: Use `surprise.prediction_algorithms.matrix_factorization.SVD` (see, [Documentation](https://surprise.readthedocs.io/en/stable/matrix_factorization.html#:~:text=surprise.prediction_algorithms.matrix_factorization.-,SVD,-(n_factors%3D)))"
   ]
  },
  {
   "cell_type": "code",
   "execution_count": 25,
   "metadata": {
    "id": "3to8YADlNdjO"
   },
   "outputs": [],
   "source": [
    "# Biased Model\n",
    "model_biased = SVD()"
   ]
  },
  {
   "cell_type": "code",
   "execution_count": 24,
   "metadata": {
    "id": "Ddmzo9xoNdjO"
   },
   "outputs": [],
   "source": [
    "# Non-Biased Model\n",
    "model_not_biased = SVD(biased=False)"
   ]
  },
  {
   "cell_type": "markdown",
   "metadata": {
    "id": "nQsysgRlNdjO"
   },
   "source": [
    "## `iii` Fit each Model on Training Data"
   ]
  },
  {
   "cell_type": "code",
   "execution_count": 26,
   "metadata": {
    "id": "FOW7dnTCNdjP"
   },
   "outputs": [
    {
     "data": {
      "text/plain": [
       "<surprise.prediction_algorithms.matrix_factorization.SVD at 0x1603d03f2b0>"
      ]
     },
     "execution_count": 26,
     "metadata": {},
     "output_type": "execute_result"
    }
   ],
   "source": [
    "# Biased Model\n",
    "model_biased.fit(train)"
   ]
  },
  {
   "cell_type": "code",
   "execution_count": 44,
   "metadata": {
    "id": "ox0tzP1gNdjP"
   },
   "outputs": [
    {
     "data": {
      "text/plain": [
       "<surprise.prediction_algorithms.matrix_factorization.SVD at 0x1603dd131f0>"
      ]
     },
     "execution_count": 44,
     "metadata": {},
     "output_type": "execute_result"
    }
   ],
   "source": [
    "# Non-Biased Model\n",
    "model_not_biased.fit(train)"
   ]
  },
  {
   "cell_type": "markdown",
   "metadata": {
    "id": "lGfQq52SNdjP"
   },
   "source": [
    "## `iv` Test both Models on the Testing Data\n",
    "\n",
    "Compare the errors of the two models using multiple error formulas.\n",
    "\n",
    "**Note**: Refer to `surprise.accuracy` module (see, [Documentation](https://surprise.readthedocs.io/en/stable/accuracy.html))"
   ]
  },
  {
   "cell_type": "code",
   "execution_count": 30,
   "metadata": {
    "id": "yyY7nwOvNdjP"
   },
   "outputs": [],
   "source": [
    "# Biased Model\n",
    "predictions1 = model_biased.test(test)"
   ]
  },
  {
   "cell_type": "code",
   "execution_count": 33,
   "metadata": {},
   "outputs": [
    {
     "name": "stdout",
     "output_type": "stream",
     "text": [
      "RMSE: 1.4977\n"
     ]
    },
    {
     "data": {
      "text/plain": [
       "1.4976804432837063"
      ]
     },
     "execution_count": 33,
     "metadata": {},
     "output_type": "execute_result"
    }
   ],
   "source": [
    "surprise.accuracy.rmse(predictions1)"
   ]
  },
  {
   "cell_type": "code",
   "execution_count": 45,
   "metadata": {
    "id": "FeWbr8QXNdjP"
   },
   "outputs": [],
   "source": [
    "# Non-Biased Model\n",
    "predictions2 = model_not_biased.test(test)"
   ]
  },
  {
   "cell_type": "code",
   "execution_count": 46,
   "metadata": {},
   "outputs": [
    {
     "name": "stdout",
     "output_type": "stream",
     "text": [
      "RMSE: 2.1094\n"
     ]
    },
    {
     "data": {
      "text/plain": [
       "2.1094108157024722"
      ]
     },
     "execution_count": 46,
     "metadata": {},
     "output_type": "execute_result"
    }
   ],
   "source": [
    "surprise.accuracy.rmse(predictions2)"
   ]
  },
  {
   "cell_type": "markdown",
   "metadata": {
    "id": "A0IT0KdgNdjQ"
   },
   "source": [
    "## `v` Recommend Top $10$ Songs for User $199988$\n",
    "\n",
    "Is there a difference in recommended songs from the two models?"
   ]
  },
  {
   "cell_type": "code",
   "execution_count": 40,
   "metadata": {
    "id": "HDN47NMJNdjQ"
   },
   "outputs": [
    {
     "name": "stdout",
     "output_type": "stream",
     "text": [
      "user: 199988     item: 90409      r_ui = None   est = 4.22   {'was_impossible': False}\n",
      "user: 199988     item: 91266      r_ui = None   est = 3.20   {'was_impossible': False}\n",
      "user: 199988     item: 8063       r_ui = None   est = 3.27   {'was_impossible': False}\n",
      "user: 199988     item: 24427      r_ui = None   est = 4.17   {'was_impossible': False}\n",
      "user: 199988     item: 105433     r_ui = None   est = 3.63   {'was_impossible': False}\n",
      "user: 199988     item: 134732     r_ui = None   est = 3.49   {'was_impossible': False}\n",
      "user: 199988     item: 105421     r_ui = None   est = 2.95   {'was_impossible': False}\n",
      "user: 199988     item: 19670      r_ui = None   est = 2.69   {'was_impossible': False}\n",
      "user: 199988     item: 79622      r_ui = None   est = 3.54   {'was_impossible': False}\n",
      "user: 199988     item: 86341      r_ui = None   est = 4.47   {'was_impossible': False}\n",
      "user: 199988     item: 131048     r_ui = None   est = 3.71   {'was_impossible': False}\n",
      "user: 199988     item: 72017      r_ui = None   est = 3.27   {'was_impossible': False}\n",
      "user: 199988     item: 42906      r_ui = None   est = 2.90   {'was_impossible': False}\n",
      "user: 199988     item: 54042      r_ui = None   est = 2.24   {'was_impossible': False}\n",
      "user: 199988     item: 55622      r_ui = None   est = 2.87   {'was_impossible': False}\n",
      "user: 199988     item: 119103     r_ui = None   est = 3.44   {'was_impossible': False}\n",
      "user: 199988     item: 68572      r_ui = None   est = 3.79   {'was_impossible': False}\n",
      "user: 199988     item: 112023     r_ui = None   est = 4.27   {'was_impossible': False}\n",
      "user: 199988     item: 60465      r_ui = None   est = 3.24   {'was_impossible': False}\n",
      "user: 199988     item: 71582      r_ui = None   est = 4.06   {'was_impossible': False}\n",
      "user: 199988     item: 74640      r_ui = None   est = 3.60   {'was_impossible': False}\n",
      "user: 199988     item: 28985      r_ui = None   est = 2.72   {'was_impossible': False}\n",
      "user: 199988     item: 22763      r_ui = None   est = 3.96   {'was_impossible': False}\n",
      "user: 199988     item: 43267      r_ui = None   est = 3.32   {'was_impossible': False}\n",
      "user: 199988     item: 113954     r_ui = None   est = 3.24   {'was_impossible': False}\n",
      "user: 199988     item: 52611      r_ui = None   est = 4.04   {'was_impossible': False}\n",
      "user: 199988     item: 126757     r_ui = None   est = 4.02   {'was_impossible': False}\n",
      "user: 199988     item: 55240      r_ui = None   est = 3.81   {'was_impossible': False}\n",
      "user: 199988     item: 92881      r_ui = None   est = 3.44   {'was_impossible': False}\n",
      "user: 199988     item: 16548      r_ui = None   est = 2.90   {'was_impossible': False}\n",
      "user: 199988     item: 62954      r_ui = None   est = 3.64   {'was_impossible': False}\n",
      "user: 199988     item: 60888      r_ui = None   est = 3.86   {'was_impossible': False}\n",
      "user: 199988     item: 40712      r_ui = None   est = 4.25   {'was_impossible': False}\n",
      "user: 199988     item: 56660      r_ui = None   est = 4.64   {'was_impossible': False}\n",
      "user: 199988     item: 13859      r_ui = None   est = 4.56   {'was_impossible': False}\n",
      "user: 199988     item: 72309      r_ui = None   est = 3.84   {'was_impossible': False}\n",
      "user: 199988     item: 48731      r_ui = None   est = 3.45   {'was_impossible': False}\n",
      "user: 199988     item: 2726       r_ui = None   est = 4.42   {'was_impossible': False}\n",
      "user: 199988     item: 19299      r_ui = None   est = 4.47   {'was_impossible': False}\n",
      "user: 199988     item: 36561      r_ui = None   est = 3.75   {'was_impossible': False}\n",
      "user: 199988     item: 12709      r_ui = None   est = 3.08   {'was_impossible': False}\n",
      "user: 199988     item: 43827      r_ui = None   est = 3.23   {'was_impossible': False}\n",
      "user: 199988     item: 2263       r_ui = None   est = 3.60   {'was_impossible': False}\n",
      "user: 199988     item: 17029      r_ui = None   est = 3.54   {'was_impossible': False}\n",
      "user: 199988     item: 42781      r_ui = None   est = 4.20   {'was_impossible': False}\n",
      "user: 199988     item: 125557     r_ui = None   est = 3.41   {'was_impossible': False}\n",
      "user: 199988     item: 45026      r_ui = None   est = 2.85   {'was_impossible': False}\n",
      "user: 199988     item: 45934      r_ui = None   est = 4.13   {'was_impossible': False}\n",
      "user: 199988     item: 25182      r_ui = None   est = 3.58   {'was_impossible': False}\n",
      "user: 199988     item: 94604      r_ui = None   est = 2.96   {'was_impossible': False}\n",
      "user: 199988     item: 94535      r_ui = None   est = 3.87   {'was_impossible': False}\n",
      "user: 199988     item: 132189     r_ui = None   est = 3.45   {'was_impossible': False}\n",
      "user: 199988     item: 123176     r_ui = None   est = 3.68   {'was_impossible': False}\n",
      "user: 199988     item: 3785       r_ui = None   est = 3.15   {'was_impossible': False}\n",
      "user: 199988     item: 122065     r_ui = None   est = 3.94   {'was_impossible': False}\n",
      "user: 199988     item: 120147     r_ui = None   est = 3.71   {'was_impossible': False}\n"
     ]
    },
    {
     "data": {
      "text/plain": [
       "[4.215809415163655,\n",
       " 3.204493701195244,\n",
       " 3.2730916836439623,\n",
       " 4.172160451464245,\n",
       " 3.6326035051485857,\n",
       " 3.493917682017876,\n",
       " 2.9454373761734796,\n",
       " 2.6919475566865563,\n",
       " 3.5428327868775233,\n",
       " 4.466647022754071,\n",
       " 3.7135220578666175,\n",
       " 3.272730953739335,\n",
       " 2.8988824029666365,\n",
       " 2.2368750164532982,\n",
       " 2.872939016471565,\n",
       " 3.444800248000437,\n",
       " 3.787213450300929,\n",
       " 4.265973505967442,\n",
       " 3.235054368345684,\n",
       " 4.064544030739343,\n",
       " 3.5988227161904893,\n",
       " 2.7214320860769923,\n",
       " 3.9608149763700506,\n",
       " 3.3158240717029885,\n",
       " 3.2357894911274077,\n",
       " 4.0437487595304535,\n",
       " 4.02277391304371,\n",
       " 3.808215373293598,\n",
       " 3.435562909997493,\n",
       " 2.900102030003842,\n",
       " 3.6423464803493193,\n",
       " 3.8595916515377207,\n",
       " 4.251630550550765,\n",
       " 4.635503948449206,\n",
       " 4.5570388315929105,\n",
       " 3.842733432792544,\n",
       " 3.44674747172856,\n",
       " 4.419659655323265,\n",
       " 4.4730026437533255,\n",
       " 3.749753360641343,\n",
       " 3.0819194737738567,\n",
       " 3.2281036683365123,\n",
       " 3.601946758021226,\n",
       " 3.544629202666832,\n",
       " 4.201202854985203,\n",
       " 3.4126234922915817,\n",
       " 2.846810630538347,\n",
       " 4.127079026505885,\n",
       " 3.5840042223474646,\n",
       " 2.9632001657232925,\n",
       " 3.873417980907299,\n",
       " 3.4461128115207105,\n",
       " 3.6838320915131977,\n",
       " 3.150828772810722,\n",
       " 3.9359421767044194,\n",
       " 3.7126997530046193]"
      ]
     },
     "execution_count": 40,
     "metadata": {},
     "output_type": "execute_result"
    }
   ],
   "source": [
    "# Biased Model\n",
    "user = 199988\n",
    "list1 = df[df['userID'] != user]['songID'].unique()\n",
    "pred1=[]\n",
    "for l in list1:\n",
    "    pred = model_biased.predict(user, l, verbose=True).est\n",
    "    pred1.append(pred)\n",
    "pred1"
   ]
  },
  {
   "cell_type": "code",
   "execution_count": 41,
   "metadata": {},
   "outputs": [
    {
     "data": {
      "text/html": [
       "<div>\n",
       "<style scoped>\n",
       "    .dataframe tbody tr th:only-of-type {\n",
       "        vertical-align: middle;\n",
       "    }\n",
       "\n",
       "    .dataframe tbody tr th {\n",
       "        vertical-align: top;\n",
       "    }\n",
       "\n",
       "    .dataframe thead th {\n",
       "        text-align: right;\n",
       "    }\n",
       "</style>\n",
       "<table border=\"1\" class=\"dataframe\">\n",
       "  <thead>\n",
       "    <tr style=\"text-align: right;\">\n",
       "      <th></th>\n",
       "      <th>songID</th>\n",
       "      <th>predicted_rating</th>\n",
       "    </tr>\n",
       "  </thead>\n",
       "  <tbody>\n",
       "    <tr>\n",
       "      <th>0</th>\n",
       "      <td>90409</td>\n",
       "      <td>4.215809</td>\n",
       "    </tr>\n",
       "    <tr>\n",
       "      <th>1</th>\n",
       "      <td>91266</td>\n",
       "      <td>3.204494</td>\n",
       "    </tr>\n",
       "    <tr>\n",
       "      <th>2</th>\n",
       "      <td>8063</td>\n",
       "      <td>3.273092</td>\n",
       "    </tr>\n",
       "    <tr>\n",
       "      <th>3</th>\n",
       "      <td>24427</td>\n",
       "      <td>4.172160</td>\n",
       "    </tr>\n",
       "    <tr>\n",
       "      <th>4</th>\n",
       "      <td>105433</td>\n",
       "      <td>3.632604</td>\n",
       "    </tr>\n",
       "  </tbody>\n",
       "</table>\n",
       "</div>"
      ],
      "text/plain": [
       "   songID  predicted_rating\n",
       "0   90409          4.215809\n",
       "1   91266          3.204494\n",
       "2    8063          3.273092\n",
       "3   24427          4.172160\n",
       "4  105433          3.632604"
      ]
     },
     "execution_count": 41,
     "metadata": {},
     "output_type": "execute_result"
    }
   ],
   "source": [
    "data = {\n",
    "    'songID': list1,\n",
    "    'predicted_rating': pred1\n",
    "}\n",
    "\n",
    "# Create a DataFrame with two columns\n",
    "df2 = pd.DataFrame(data)\n",
    "# Create a DataFrame with one column\n",
    "df2.head()"
   ]
  },
  {
   "cell_type": "code",
   "execution_count": 42,
   "metadata": {},
   "outputs": [
    {
     "data": {
      "text/html": [
       "<div>\n",
       "<style scoped>\n",
       "    .dataframe tbody tr th:only-of-type {\n",
       "        vertical-align: middle;\n",
       "    }\n",
       "\n",
       "    .dataframe tbody tr th {\n",
       "        vertical-align: top;\n",
       "    }\n",
       "\n",
       "    .dataframe thead th {\n",
       "        text-align: right;\n",
       "    }\n",
       "</style>\n",
       "<table border=\"1\" class=\"dataframe\">\n",
       "  <thead>\n",
       "    <tr style=\"text-align: right;\">\n",
       "      <th></th>\n",
       "      <th>songID</th>\n",
       "      <th>predicted_rating</th>\n",
       "    </tr>\n",
       "  </thead>\n",
       "  <tbody>\n",
       "    <tr>\n",
       "      <th>33</th>\n",
       "      <td>56660</td>\n",
       "      <td>4.635504</td>\n",
       "    </tr>\n",
       "    <tr>\n",
       "      <th>34</th>\n",
       "      <td>13859</td>\n",
       "      <td>4.557039</td>\n",
       "    </tr>\n",
       "    <tr>\n",
       "      <th>38</th>\n",
       "      <td>19299</td>\n",
       "      <td>4.473003</td>\n",
       "    </tr>\n",
       "    <tr>\n",
       "      <th>9</th>\n",
       "      <td>86341</td>\n",
       "      <td>4.466647</td>\n",
       "    </tr>\n",
       "    <tr>\n",
       "      <th>37</th>\n",
       "      <td>2726</td>\n",
       "      <td>4.419660</td>\n",
       "    </tr>\n",
       "    <tr>\n",
       "      <th>17</th>\n",
       "      <td>112023</td>\n",
       "      <td>4.265974</td>\n",
       "    </tr>\n",
       "    <tr>\n",
       "      <th>32</th>\n",
       "      <td>40712</td>\n",
       "      <td>4.251631</td>\n",
       "    </tr>\n",
       "    <tr>\n",
       "      <th>0</th>\n",
       "      <td>90409</td>\n",
       "      <td>4.215809</td>\n",
       "    </tr>\n",
       "    <tr>\n",
       "      <th>44</th>\n",
       "      <td>42781</td>\n",
       "      <td>4.201203</td>\n",
       "    </tr>\n",
       "    <tr>\n",
       "      <th>3</th>\n",
       "      <td>24427</td>\n",
       "      <td>4.172160</td>\n",
       "    </tr>\n",
       "  </tbody>\n",
       "</table>\n",
       "</div>"
      ],
      "text/plain": [
       "    songID  predicted_rating\n",
       "33   56660          4.635504\n",
       "34   13859          4.557039\n",
       "38   19299          4.473003\n",
       "9    86341          4.466647\n",
       "37    2726          4.419660\n",
       "17  112023          4.265974\n",
       "32   40712          4.251631\n",
       "0    90409          4.215809\n",
       "44   42781          4.201203\n",
       "3    24427          4.172160"
      ]
     },
     "execution_count": 42,
     "metadata": {},
     "output_type": "execute_result"
    }
   ],
   "source": [
    "song_predictions_sorted = df2.sort_values(by='predicted_rating' ,ascending=False )\n",
    "song_predictions_sorted.head(10)"
   ]
  },
  {
   "cell_type": "code",
   "execution_count": 47,
   "metadata": {
    "id": "uDK2TLB0NdjQ"
   },
   "outputs": [
    {
     "name": "stdout",
     "output_type": "stream",
     "text": [
      "user: 199988     item: 90409      r_ui = None   est = 1.07   {'was_impossible': False}\n",
      "user: 199988     item: 91266      r_ui = None   est = 1.13   {'was_impossible': False}\n",
      "user: 199988     item: 8063       r_ui = None   est = 1.31   {'was_impossible': False}\n",
      "user: 199988     item: 24427      r_ui = None   est = 1.00   {'was_impossible': False}\n",
      "user: 199988     item: 105433     r_ui = None   est = 1.63   {'was_impossible': False}\n",
      "user: 199988     item: 134732     r_ui = None   est = 1.00   {'was_impossible': False}\n",
      "user: 199988     item: 105421     r_ui = None   est = 1.00   {'was_impossible': False}\n",
      "user: 199988     item: 19670      r_ui = None   est = 1.00   {'was_impossible': False}\n",
      "user: 199988     item: 79622      r_ui = None   est = 1.00   {'was_impossible': False}\n",
      "user: 199988     item: 86341      r_ui = None   est = 1.00   {'was_impossible': False}\n",
      "user: 199988     item: 131048     r_ui = None   est = 2.03   {'was_impossible': False}\n",
      "user: 199988     item: 72017      r_ui = None   est = 1.00   {'was_impossible': False}\n",
      "user: 199988     item: 42906      r_ui = None   est = 1.00   {'was_impossible': False}\n",
      "user: 199988     item: 54042      r_ui = None   est = 1.94   {'was_impossible': False}\n",
      "user: 199988     item: 55622      r_ui = None   est = 2.66   {'was_impossible': False}\n",
      "user: 199988     item: 119103     r_ui = None   est = 1.00   {'was_impossible': False}\n",
      "user: 199988     item: 68572      r_ui = None   est = 1.00   {'was_impossible': False}\n",
      "user: 199988     item: 112023     r_ui = None   est = 1.71   {'was_impossible': False}\n",
      "user: 199988     item: 60465      r_ui = None   est = 1.00   {'was_impossible': False}\n",
      "user: 199988     item: 71582      r_ui = None   est = 1.00   {'was_impossible': False}\n",
      "user: 199988     item: 74640      r_ui = None   est = 1.43   {'was_impossible': False}\n",
      "user: 199988     item: 28985      r_ui = None   est = 2.34   {'was_impossible': False}\n",
      "user: 199988     item: 22763      r_ui = None   est = 1.75   {'was_impossible': False}\n",
      "user: 199988     item: 43267      r_ui = None   est = 2.88   {'was_impossible': False}\n",
      "user: 199988     item: 113954     r_ui = None   est = 1.00   {'was_impossible': False}\n",
      "user: 199988     item: 52611      r_ui = None   est = 1.00   {'was_impossible': False}\n",
      "user: 199988     item: 126757     r_ui = None   est = 1.00   {'was_impossible': False}\n",
      "user: 199988     item: 55240      r_ui = None   est = 1.00   {'was_impossible': False}\n",
      "user: 199988     item: 92881      r_ui = None   est = 1.61   {'was_impossible': False}\n",
      "user: 199988     item: 16548      r_ui = None   est = 2.07   {'was_impossible': False}\n",
      "user: 199988     item: 62954      r_ui = None   est = 1.56   {'was_impossible': False}\n",
      "user: 199988     item: 60888      r_ui = None   est = 1.47   {'was_impossible': False}\n",
      "user: 199988     item: 40712      r_ui = None   est = 1.00   {'was_impossible': False}\n",
      "user: 199988     item: 56660      r_ui = None   est = 4.72   {'was_impossible': False}\n",
      "user: 199988     item: 13859      r_ui = None   est = 1.00   {'was_impossible': False}\n",
      "user: 199988     item: 72309      r_ui = None   est = 1.36   {'was_impossible': False}\n",
      "user: 199988     item: 48731      r_ui = None   est = 1.27   {'was_impossible': False}\n",
      "user: 199988     item: 2726       r_ui = None   est = 4.72   {'was_impossible': False}\n",
      "user: 199988     item: 19299      r_ui = None   est = 1.00   {'was_impossible': False}\n",
      "user: 199988     item: 36561      r_ui = None   est = 1.47   {'was_impossible': False}\n",
      "user: 199988     item: 12709      r_ui = None   est = 1.00   {'was_impossible': False}\n",
      "user: 199988     item: 43827      r_ui = None   est = 1.61   {'was_impossible': False}\n",
      "user: 199988     item: 2263       r_ui = None   est = 1.00   {'was_impossible': False}\n",
      "user: 199988     item: 17029      r_ui = None   est = 1.00   {'was_impossible': False}\n",
      "user: 199988     item: 42781      r_ui = None   est = 1.70   {'was_impossible': False}\n",
      "user: 199988     item: 125557     r_ui = None   est = 2.65   {'was_impossible': False}\n",
      "user: 199988     item: 45026      r_ui = None   est = 2.39   {'was_impossible': False}\n",
      "user: 199988     item: 45934      r_ui = None   est = 1.00   {'was_impossible': False}\n",
      "user: 199988     item: 25182      r_ui = None   est = 1.74   {'was_impossible': False}\n",
      "user: 199988     item: 94604      r_ui = None   est = 1.00   {'was_impossible': False}\n",
      "user: 199988     item: 94535      r_ui = None   est = 1.00   {'was_impossible': False}\n",
      "user: 199988     item: 132189     r_ui = None   est = 1.17   {'was_impossible': False}\n",
      "user: 199988     item: 123176     r_ui = None   est = 1.11   {'was_impossible': False}\n",
      "user: 199988     item: 3785       r_ui = None   est = 1.00   {'was_impossible': False}\n",
      "user: 199988     item: 122065     r_ui = None   est = 2.48   {'was_impossible': False}\n",
      "user: 199988     item: 120147     r_ui = None   est = 1.00   {'was_impossible': False}\n"
     ]
    },
    {
     "data": {
      "text/plain": [
       "[1.068286910395789,\n",
       " 1.1341069213167205,\n",
       " 1.3142702292214405,\n",
       " 1,\n",
       " 1.62879039881704,\n",
       " 1,\n",
       " 1,\n",
       " 1,\n",
       " 1,\n",
       " 1,\n",
       " 2.0338111064760134,\n",
       " 1,\n",
       " 1,\n",
       " 1.9447869747785194,\n",
       " 2.6562304932485725,\n",
       " 1,\n",
       " 1,\n",
       " 1.7098023550107195,\n",
       " 1,\n",
       " 1,\n",
       " 1.4310686586435084,\n",
       " 2.3382620990709224,\n",
       " 1.7471642166709171,\n",
       " 2.8826513360370303,\n",
       " 1,\n",
       " 1,\n",
       " 1,\n",
       " 1,\n",
       " 1.6060067310371096,\n",
       " 2.068689678339886,\n",
       " 1.5630463790865257,\n",
       " 1.4728122003786794,\n",
       " 1,\n",
       " 4.717675261074011,\n",
       " 1,\n",
       " 1.3644361024275118,\n",
       " 1.2733849980030674,\n",
       " 4.716245455072792,\n",
       " 1,\n",
       " 1.4688775941374848,\n",
       " 1,\n",
       " 1.6089067469853595,\n",
       " 1,\n",
       " 1,\n",
       " 1.7027669570897075,\n",
       " 2.6539668921762702,\n",
       " 2.393462577553421,\n",
       " 1,\n",
       " 1.7356056823618338,\n",
       " 1,\n",
       " 1,\n",
       " 1.1743312310249852,\n",
       " 1.10527693681669,\n",
       " 1,\n",
       " 2.482428720827491,\n",
       " 1]"
      ]
     },
     "execution_count": 47,
     "metadata": {},
     "output_type": "execute_result"
    }
   ],
   "source": [
    "# Non-Biased Model\n",
    "list1 = df[df['userID'] != user]['songID'].unique()\n",
    "pred1=[]\n",
    "for l in list1:\n",
    "    pred = model_not_biased.predict(user, l, verbose=True).est\n",
    "    pred1.append(pred)\n",
    "pred1"
   ]
  },
  {
   "cell_type": "code",
   "execution_count": 48,
   "metadata": {},
   "outputs": [
    {
     "data": {
      "text/html": [
       "<div>\n",
       "<style scoped>\n",
       "    .dataframe tbody tr th:only-of-type {\n",
       "        vertical-align: middle;\n",
       "    }\n",
       "\n",
       "    .dataframe tbody tr th {\n",
       "        vertical-align: top;\n",
       "    }\n",
       "\n",
       "    .dataframe thead th {\n",
       "        text-align: right;\n",
       "    }\n",
       "</style>\n",
       "<table border=\"1\" class=\"dataframe\">\n",
       "  <thead>\n",
       "    <tr style=\"text-align: right;\">\n",
       "      <th></th>\n",
       "      <th>songID</th>\n",
       "      <th>predicted_rating</th>\n",
       "    </tr>\n",
       "  </thead>\n",
       "  <tbody>\n",
       "    <tr>\n",
       "      <th>0</th>\n",
       "      <td>90409</td>\n",
       "      <td>1.068287</td>\n",
       "    </tr>\n",
       "    <tr>\n",
       "      <th>1</th>\n",
       "      <td>91266</td>\n",
       "      <td>1.134107</td>\n",
       "    </tr>\n",
       "    <tr>\n",
       "      <th>2</th>\n",
       "      <td>8063</td>\n",
       "      <td>1.314270</td>\n",
       "    </tr>\n",
       "    <tr>\n",
       "      <th>3</th>\n",
       "      <td>24427</td>\n",
       "      <td>1.000000</td>\n",
       "    </tr>\n",
       "    <tr>\n",
       "      <th>4</th>\n",
       "      <td>105433</td>\n",
       "      <td>1.628790</td>\n",
       "    </tr>\n",
       "  </tbody>\n",
       "</table>\n",
       "</div>"
      ],
      "text/plain": [
       "   songID  predicted_rating\n",
       "0   90409          1.068287\n",
       "1   91266          1.134107\n",
       "2    8063          1.314270\n",
       "3   24427          1.000000\n",
       "4  105433          1.628790"
      ]
     },
     "execution_count": 48,
     "metadata": {},
     "output_type": "execute_result"
    }
   ],
   "source": [
    "data = {\n",
    "    'songID': list1,\n",
    "    'predicted_rating': pred1\n",
    "}\n",
    "\n",
    "# Create a DataFrame with two columns\n",
    "df2 = pd.DataFrame(data)\n",
    "# Create a DataFrame with one column\n",
    "df2.head()"
   ]
  },
  {
   "cell_type": "code",
   "execution_count": 49,
   "metadata": {},
   "outputs": [
    {
     "data": {
      "text/html": [
       "<div>\n",
       "<style scoped>\n",
       "    .dataframe tbody tr th:only-of-type {\n",
       "        vertical-align: middle;\n",
       "    }\n",
       "\n",
       "    .dataframe tbody tr th {\n",
       "        vertical-align: top;\n",
       "    }\n",
       "\n",
       "    .dataframe thead th {\n",
       "        text-align: right;\n",
       "    }\n",
       "</style>\n",
       "<table border=\"1\" class=\"dataframe\">\n",
       "  <thead>\n",
       "    <tr style=\"text-align: right;\">\n",
       "      <th></th>\n",
       "      <th>songID</th>\n",
       "      <th>predicted_rating</th>\n",
       "    </tr>\n",
       "  </thead>\n",
       "  <tbody>\n",
       "    <tr>\n",
       "      <th>33</th>\n",
       "      <td>56660</td>\n",
       "      <td>4.717675</td>\n",
       "    </tr>\n",
       "    <tr>\n",
       "      <th>37</th>\n",
       "      <td>2726</td>\n",
       "      <td>4.716245</td>\n",
       "    </tr>\n",
       "    <tr>\n",
       "      <th>23</th>\n",
       "      <td>43267</td>\n",
       "      <td>2.882651</td>\n",
       "    </tr>\n",
       "    <tr>\n",
       "      <th>14</th>\n",
       "      <td>55622</td>\n",
       "      <td>2.656230</td>\n",
       "    </tr>\n",
       "    <tr>\n",
       "      <th>45</th>\n",
       "      <td>125557</td>\n",
       "      <td>2.653967</td>\n",
       "    </tr>\n",
       "    <tr>\n",
       "      <th>54</th>\n",
       "      <td>122065</td>\n",
       "      <td>2.482429</td>\n",
       "    </tr>\n",
       "    <tr>\n",
       "      <th>46</th>\n",
       "      <td>45026</td>\n",
       "      <td>2.393463</td>\n",
       "    </tr>\n",
       "    <tr>\n",
       "      <th>21</th>\n",
       "      <td>28985</td>\n",
       "      <td>2.338262</td>\n",
       "    </tr>\n",
       "    <tr>\n",
       "      <th>29</th>\n",
       "      <td>16548</td>\n",
       "      <td>2.068690</td>\n",
       "    </tr>\n",
       "    <tr>\n",
       "      <th>10</th>\n",
       "      <td>131048</td>\n",
       "      <td>2.033811</td>\n",
       "    </tr>\n",
       "  </tbody>\n",
       "</table>\n",
       "</div>"
      ],
      "text/plain": [
       "    songID  predicted_rating\n",
       "33   56660          4.717675\n",
       "37    2726          4.716245\n",
       "23   43267          2.882651\n",
       "14   55622          2.656230\n",
       "45  125557          2.653967\n",
       "54  122065          2.482429\n",
       "46   45026          2.393463\n",
       "21   28985          2.338262\n",
       "29   16548          2.068690\n",
       "10  131048          2.033811"
      ]
     },
     "execution_count": 49,
     "metadata": {},
     "output_type": "execute_result"
    }
   ],
   "source": [
    "song_predictions_sorted = df2.sort_values(by='predicted_rating' ,ascending=False )\n",
    "song_predictions_sorted.head(10)"
   ]
  },
  {
   "cell_type": "markdown",
   "metadata": {
    "id": "F4830HYlNdjQ"
   },
   "source": [
    "----------------------------------------------\n",
    "\n",
    "$$ Wish \\space you \\space all \\space the \\space best \\space ♡ $$\n",
    "$$ Abdelrahman \\space Eid $$"
   ]
  }
 ],
 "metadata": {
  "colab": {
   "provenance": []
  },
  "kernelspec": {
   "display_name": "Python 3 (ipykernel)",
   "language": "python",
   "name": "python3"
  },
  "language_info": {
   "codemirror_mode": {
    "name": "ipython",
    "version": 3
   },
   "file_extension": ".py",
   "mimetype": "text/x-python",
   "name": "python",
   "nbconvert_exporter": "python",
   "pygments_lexer": "ipython3",
   "version": "3.9.12"
  },
  "vscode": {
   "interpreter": {
    "hash": "ad2bdc8ecc057115af97d19610ffacc2b4e99fae6737bb82f5d7fb13d2f2c186"
   }
  }
 },
 "nbformat": 4,
 "nbformat_minor": 1
}
